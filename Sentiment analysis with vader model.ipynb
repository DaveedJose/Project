{
 "cells": [
  {
   "cell_type": "code",
   "execution_count": 2,
   "id": "9dbdd561",
   "metadata": {},
   "outputs": [],
   "source": [
    "import pandas as pd\n",
    "import numpy as np\n",
    "import matplotlib.pyplot as plt\n",
    "import seaborn as sns\n",
    "\n",
    "plt.style.use('ggplot')\n",
    "\n",
    "import nltk\n",
    "#importing the necessary libraries"
   ]
  },
  {
   "cell_type": "code",
   "execution_count": 3,
   "id": "b4f10761",
   "metadata": {},
   "outputs": [],
   "source": [
    "df = pd.read_csv('Clothes.csv') #reading the csv file"
   ]
  },
  {
   "cell_type": "code",
   "execution_count": 4,
   "id": "1356350c",
   "metadata": {},
   "outputs": [
    {
     "data": {
      "text/html": [
       "<div>\n",
       "<style scoped>\n",
       "    .dataframe tbody tr th:only-of-type {\n",
       "        vertical-align: middle;\n",
       "    }\n",
       "\n",
       "    .dataframe tbody tr th {\n",
       "        vertical-align: top;\n",
       "    }\n",
       "\n",
       "    .dataframe thead th {\n",
       "        text-align: right;\n",
       "    }\n",
       "</style>\n",
       "<table border=\"1\" class=\"dataframe\">\n",
       "  <thead>\n",
       "    <tr style=\"text-align: right;\">\n",
       "      <th></th>\n",
       "      <th>S.no</th>\n",
       "      <th>ASIN</th>\n",
       "      <th>Rating</th>\n",
       "      <th>Review Title</th>\n",
       "      <th>Review</th>\n",
       "      <th>Product Name</th>\n",
       "      <th>Brand</th>\n",
       "      <th>Unnamed: 7</th>\n",
       "      <th>Unnamed: 8</th>\n",
       "      <th>Category</th>\n",
       "    </tr>\n",
       "  </thead>\n",
       "  <tbody>\n",
       "    <tr>\n",
       "      <th>0</th>\n",
       "      <td>NaN</td>\n",
       "      <td>NaN</td>\n",
       "      <td>NaN</td>\n",
       "      <td>NaN</td>\n",
       "      <td>NaN</td>\n",
       "      <td>NaN</td>\n",
       "      <td>NaN</td>\n",
       "      <td>NaN</td>\n",
       "      <td>NaN</td>\n",
       "      <td>NaN</td>\n",
       "    </tr>\n",
       "    <tr>\n",
       "      <th>1</th>\n",
       "      <td>2.0</td>\n",
       "      <td>B08THVX64T</td>\n",
       "      <td>5.0</td>\n",
       "      <td>Really nice material and good fit</td>\n",
       "      <td>Product is true to fit and as it showed in the...</td>\n",
       "      <td>VERO MODA Women's Vmava Plain SS Top Ga Noos T...</td>\n",
       "      <td>VERO MODA</td>\n",
       "      <td>NaN</td>\n",
       "      <td>NaN</td>\n",
       "      <td>Tshirt</td>\n",
       "    </tr>\n",
       "    <tr>\n",
       "      <th>2</th>\n",
       "      <td>3.0</td>\n",
       "      <td>B07V35NX7T</td>\n",
       "      <td>5.0</td>\n",
       "      <td>Good quality</td>\n",
       "      <td>Good quality and comfortable</td>\n",
       "      <td>Mariposa Women's Long Sleeve T-Shirt</td>\n",
       "      <td>Mariposa Women's</td>\n",
       "      <td>NaN</td>\n",
       "      <td>NaN</td>\n",
       "      <td>Tshirt</td>\n",
       "    </tr>\n",
       "    <tr>\n",
       "      <th>3</th>\n",
       "      <td>4.0</td>\n",
       "      <td>‎ B095YQTFS9</td>\n",
       "      <td>5.0</td>\n",
       "      <td>Really cute summer top</td>\n",
       "      <td>Really like the color ( hot pink) oversized bu...</td>\n",
       "      <td>MIRACMODA Women Open Back Athlete Loose Fittin...</td>\n",
       "      <td>MIRACMODA Women</td>\n",
       "      <td>NaN</td>\n",
       "      <td>NaN</td>\n",
       "      <td>Tshirt</td>\n",
       "    </tr>\n",
       "    <tr>\n",
       "      <th>4</th>\n",
       "      <td>5.0</td>\n",
       "      <td>B07MDCQR68</td>\n",
       "      <td>4.0</td>\n",
       "      <td>size is a bit smaller</td>\n",
       "      <td>size is a bit smaller</td>\n",
       "      <td>Levi's Womens Crewneck Classic Batwing Logo T ...</td>\n",
       "      <td>Levi's Womens</td>\n",
       "      <td>NaN</td>\n",
       "      <td>NaN</td>\n",
       "      <td>Tshirt</td>\n",
       "    </tr>\n",
       "  </tbody>\n",
       "</table>\n",
       "</div>"
      ],
      "text/plain": [
       "   S.no           ASIN  Rating                        Review Title  \\\n",
       "0   NaN            NaN     NaN                                 NaN   \n",
       "1   2.0     B08THVX64T     5.0   Really nice material and good fit   \n",
       "2   3.0     B07V35NX7T     5.0                        Good quality   \n",
       "3   4.0   ‎ B095YQTFS9     5.0              Really cute summer top   \n",
       "4   5.0     B07MDCQR68     4.0               size is a bit smaller   \n",
       "\n",
       "                                              Review  \\\n",
       "0                                                NaN   \n",
       "1  Product is true to fit and as it showed in the...   \n",
       "2                       Good quality and comfortable   \n",
       "3  Really like the color ( hot pink) oversized bu...   \n",
       "4                              size is a bit smaller   \n",
       "\n",
       "                                        Product Name             Brand  \\\n",
       "0                                                NaN               NaN   \n",
       "1  VERO MODA Women's Vmava Plain SS Top Ga Noos T...         VERO MODA   \n",
       "2               Mariposa Women's Long Sleeve T-Shirt  Mariposa Women's   \n",
       "3  MIRACMODA Women Open Back Athlete Loose Fittin...   MIRACMODA Women   \n",
       "4  Levi's Womens Crewneck Classic Batwing Logo T ...     Levi's Womens   \n",
       "\n",
       "  Unnamed: 7  Unnamed: 8 Category  \n",
       "0        NaN         NaN      NaN  \n",
       "1        NaN         NaN   Tshirt  \n",
       "2        NaN         NaN   Tshirt  \n",
       "3        NaN         NaN   Tshirt  \n",
       "4        NaN         NaN   Tshirt  "
      ]
     },
     "execution_count": 4,
     "metadata": {},
     "output_type": "execute_result"
    }
   ],
   "source": [
    "df.head() #display the first rows to give a snippet of the data set"
   ]
  },
  {
   "cell_type": "code",
   "execution_count": 5,
   "id": "0641b005",
   "metadata": {},
   "outputs": [
    {
     "name": "stdout",
     "output_type": "stream",
     "text": [
      "(172, 10)\n"
     ]
    }
   ],
   "source": [
    "print(df.shape) #collected 200 samples and removed the ones without proper data"
   ]
  },
  {
   "cell_type": "code",
   "execution_count": 7,
   "id": "d7fb01e3",
   "metadata": {},
   "outputs": [
    {
     "data": {
      "text/plain": [
       "5.0    104\n",
       "4.0     20\n",
       "3.0     20\n",
       "2.0     12\n",
       "1.0     12\n",
       "Name: Rating, dtype: int64"
      ]
     },
     "execution_count": 7,
     "metadata": {},
     "output_type": "execute_result"
    }
   ],
   "source": [
    "df['Rating'].value_counts()#Shows the count of each star"
   ]
  },
  {
   "cell_type": "code",
   "execution_count": 10,
   "id": "2b46ac0a",
   "metadata": {},
   "outputs": [
    {
     "name": "stdout",
     "output_type": "stream",
     "text": [
      " Perfect fitting\n"
     ]
    }
   ],
   "source": [
    "example = df['Review Title'][50]\n",
    "print(example)\n",
    "#to show the 50th entry in reviews"
   ]
  },
  {
   "cell_type": "code",
   "execution_count": 12,
   "id": "329e9f59",
   "metadata": {},
   "outputs": [
    {
     "data": {
      "text/plain": [
       "['Perfect', 'fitting']"
      ]
     },
     "execution_count": 12,
     "metadata": {},
     "output_type": "execute_result"
    }
   ],
   "source": [
    "nltk.word_tokenize(example)#splitting the sentence into words with the help of nltk(natural language processing toolkit)"
   ]
  },
  {
   "cell_type": "code",
   "execution_count": 18,
   "id": "75f26f7a",
   "metadata": {},
   "outputs": [],
   "source": [
    "#Vader analysis -> stop words are removed -> each word is scored and combined to a total score"
   ]
  },
  {
   "cell_type": "code",
   "execution_count": 20,
   "id": "dc793f4b",
   "metadata": {},
   "outputs": [],
   "source": [
    "from nltk.sentiment import SentimentIntensityAnalyzer\n",
    "from tqdm.notebook import tqdm\n",
    "\n",
    "sia = SentimentIntensityAnalyzer()"
   ]
  },
  {
   "cell_type": "code",
   "execution_count": 22,
   "id": "dcdbbc2f",
   "metadata": {},
   "outputs": [
    {
     "data": {
      "text/plain": [
       "{'neg': 0.0, 'neu': 0.334, 'pos': 0.666, 'compound': 0.6115}"
      ]
     },
     "execution_count": 22,
     "metadata": {},
     "output_type": "execute_result"
    }
   ],
   "source": [
    "sia.polarity_scores('I am so happy') #It will give a score for the sentence using sentiment analysis in polarity range meaning Polarity is a float value within the range [-1.0 to 1.0] where 0 indicates neutral, +1 indicates a very positive sentiment and -1 represents a very negative sentiment."
   ]
  },
  {
   "cell_type": "code",
   "execution_count": 23,
   "id": "11769782",
   "metadata": {},
   "outputs": [
    {
     "data": {
      "text/plain": [
       "{'neg': 0.0, 'neu': 0.213, 'pos': 0.787, 'compound': 0.5719}"
      ]
     },
     "execution_count": 23,
     "metadata": {},
     "output_type": "execute_result"
    }
   ],
   "source": [
    "sia.polarity_scores(example)"
   ]
  },
  {
   "cell_type": "code",
   "execution_count": 37,
   "id": "025542ca",
   "metadata": {},
   "outputs": [
    {
     "data": {
      "application/vnd.jupyter.widget-view+json": {
       "model_id": "a6765c4ad4924367a7771197db1441d4",
       "version_major": 2,
       "version_minor": 0
      },
      "text/plain": [
       "  0%|          | 0/172 [00:00<?, ?it/s]"
      ]
     },
     "metadata": {},
     "output_type": "display_data"
    }
   ],
   "source": [
    "res = {}\n",
    "for i, row in tqdm(df.iterrows(), total=len(df)):\n",
    "    text = str(row['Review Title'])\n",
    "    myid = row['S.no']\n",
    "    res[myid] = sia.polarity_scores(text)\n"
   ]
  },
  {
   "cell_type": "code",
   "execution_count": 38,
   "id": "8179f91a",
   "metadata": {},
   "outputs": [
    {
     "data": {
      "text/plain": [
       "{nan: {'neg': 0.0, 'neu': 1.0, 'pos': 0.0, 'compound': 0.0},\n",
       " 2.0: {'neg': 0.0, 'neu': 0.261, 'pos': 0.739, 'compound': 0.8173},\n",
       " 3.0: {'neg': 0.0, 'neu': 0.256, 'pos': 0.744, 'compound': 0.4404},\n",
       " 4.0: {'neg': 0.0, 'neu': 0.272, 'pos': 0.728, 'compound': 0.6549},\n",
       " 5.0: {'neg': 0.0, 'neu': 1.0, 'pos': 0.0, 'compound': 0.0},\n",
       " 6.0: {'neg': 0.0, 'neu': 0.196, 'pos': 0.804, 'compound': 0.6249},\n",
       " 7.0: {'neg': 0.0, 'neu': 0.268, 'pos': 0.732, 'compound': 0.8481},\n",
       " 8.0: {'neg': 0.0, 'neu': 1.0, 'pos': 0.0, 'compound': 0.0},\n",
       " 9.0: {'neg': 0.0, 'neu': 0.244, 'pos': 0.756, 'compound': 0.7351},\n",
       " 10.0: {'neg': 0.0, 'neu': 1.0, 'pos': 0.0, 'compound': 0.0},\n",
       " 11.0: {'neg': 0.0, 'neu': 1.0, 'pos': 0.0, 'compound': 0.0},\n",
       " 12.0: {'neg': 0.0, 'neu': 0.0, 'pos': 1.0, 'compound': 0.6249},\n",
       " 13.0: {'neg': 0.0, 'neu': 0.448, 'pos': 0.552, 'compound': 0.5719},\n",
       " 14.0: {'neg': 0.0, 'neu': 0.0, 'pos': 1.0, 'compound': 0.2023},\n",
       " 15.0: {'neg': 0.0, 'neu': 0.0, 'pos': 1.0, 'compound': 0.5994},\n",
       " 16.0: {'neg': 0.0, 'neu': 0.0, 'pos': 1.0, 'compound': 0.2732},\n",
       " 17.0: {'neg': 0.0, 'neu': 0.39, 'pos': 0.61, 'compound': 0.5719},\n",
       " 18.0: {'neg': 0.0, 'neu': 1.0, 'pos': 0.0, 'compound': 0.0},\n",
       " 19.0: {'neg': 0.0, 'neu': 0.323, 'pos': 0.677, 'compound': 0.6369},\n",
       " 20.0: {'neg': 0.756, 'neu': 0.244, 'pos': 0.0, 'compound': -0.4767},\n",
       " 21.0: {'neg': 0.0, 'neu': 0.182, 'pos': 0.818, 'compound': 0.6696},\n",
       " 22.0: {'neg': 0.0, 'neu': 1.0, 'pos': 0.0, 'compound': 0.0},\n",
       " 23.0: {'neg': 0.0, 'neu': 0.0, 'pos': 1.0, 'compound': 0.5719},\n",
       " 24.0: {'neg': 0.0, 'neu': 1.0, 'pos': 0.0, 'compound': 0.0},\n",
       " 25.0: {'neg': 0.0, 'neu': 1.0, 'pos': 0.0, 'compound': 0.0},\n",
       " 26.0: {'neg': 0.0, 'neu': 0.345, 'pos': 0.655, 'compound': 0.2263},\n",
       " 27.0: {'neg': 0.0, 'neu': 0.0, 'pos': 1.0, 'compound': 0.5719},\n",
       " 28.0: {'neg': 0.0, 'neu': 1.0, 'pos': 0.0, 'compound': 0.0},\n",
       " 29.0: {'neg': 0.0, 'neu': 1.0, 'pos': 0.0, 'compound': 0.0},\n",
       " 30.0: {'neg': 0.0, 'neu': 1.0, 'pos': 0.0, 'compound': 0.0},\n",
       " 31.0: {'neg': 0.0, 'neu': 0.577, 'pos': 0.423, 'compound': 0.296},\n",
       " 32.0: {'neg': 0.0, 'neu': 0.0, 'pos': 1.0, 'compound': 0.5719},\n",
       " 33.0: {'neg': 0.0, 'neu': 1.0, 'pos': 0.0, 'compound': 0.0},\n",
       " 34.0: {'neg': 0.0, 'neu': 1.0, 'pos': 0.0, 'compound': 0.0},\n",
       " 35.0: {'neg': 0.0, 'neu': 1.0, 'pos': 0.0, 'compound': 0.0},\n",
       " 36.0: {'neg': 0.0, 'neu': 0.196, 'pos': 0.804, 'compound': 0.6249},\n",
       " 37.0: {'neg': 0.0, 'neu': 1.0, 'pos': 0.0, 'compound': 0.0},\n",
       " 38.0: {'neg': 0.0, 'neu': 1.0, 'pos': 0.0, 'compound': 0.0},\n",
       " 39.0: {'neg': 0.0, 'neu': 0.527, 'pos': 0.473, 'compound': 0.6696},\n",
       " 40.0: {'neg': 0.0, 'neu': 1.0, 'pos': 0.0, 'compound': 0.0},\n",
       " 41.0: {'neg': 0.0, 'neu': 1.0, 'pos': 0.0, 'compound': 0.0},\n",
       " 42.0: {'neg': 0.0, 'neu': 1.0, 'pos': 0.0, 'compound': 0.0},\n",
       " 43.0: {'neg': 0.0, 'neu': 1.0, 'pos': 0.0, 'compound': 0.0},\n",
       " 44.0: {'neg': 0.0, 'neu': 1.0, 'pos': 0.0, 'compound': 0.0},\n",
       " 45.0: {'neg': 0.0, 'neu': 0.653, 'pos': 0.347, 'compound': 0.4926},\n",
       " 46.0: {'neg': 0.0, 'neu': 0.508, 'pos': 0.492, 'compound': 0.4404},\n",
       " 47.0: {'neg': 0.0, 'neu': 1.0, 'pos': 0.0, 'compound': 0.0},\n",
       " 48.0: {'neg': 0.0, 'neu': 0.0, 'pos': 1.0, 'compound': 0.5106},\n",
       " 49.0: {'neg': 0.0, 'neu': 1.0, 'pos': 0.0, 'compound': 0.0},\n",
       " 50.0: {'neg': 0.0, 'neu': 1.0, 'pos': 0.0, 'compound': 0.0},\n",
       " 51.0: {'neg': 0.0, 'neu': 0.213, 'pos': 0.787, 'compound': 0.5719},\n",
       " 52.0: {'neg': 0.0, 'neu': 0.0, 'pos': 1.0, 'compound': 0.5719},\n",
       " 53.0: {'neg': 0.0, 'neu': 1.0, 'pos': 0.0, 'compound': 0.0},\n",
       " 54.0: {'neg': 0.0, 'neu': 0.517, 'pos': 0.483, 'compound': 0.4215},\n",
       " 55.0: {'neg': 0.0, 'neu': 0.312, 'pos': 0.688, 'compound': 0.296},\n",
       " 56.0: {'neg': 0.0, 'neu': 0.0, 'pos': 1.0, 'compound': 0.5719},\n",
       " 57.0: {'neg': 0.0, 'neu': 0.508, 'pos': 0.492, 'compound': 0.4404},\n",
       " 58.0: {'neg': 0.0, 'neu': 0.256, 'pos': 0.744, 'compound': 0.4404},\n",
       " 59.0: {'neg': 0.0, 'neu': 0.313, 'pos': 0.687, 'compound': 0.6588},\n",
       " 60.0: {'neg': 0.0, 'neu': 0.147, 'pos': 0.853, 'compound': 0.7003},\n",
       " 61.0: {'neg': 0.0, 'neu': 0.521, 'pos': 0.479, 'compound': 0.5574},\n",
       " 62.0: {'neg': 0.0, 'neu': 0.345, 'pos': 0.655, 'compound': 0.5859},\n",
       " 63.0: {'neg': 0.0, 'neu': 0.0, 'pos': 1.0, 'compound': 0.4939},\n",
       " 64.0: {'neg': 0.0, 'neu': 1.0, 'pos': 0.0, 'compound': 0.0},\n",
       " 65.0: {'neg': 0.0, 'neu': 1.0, 'pos': 0.0, 'compound': 0.0},\n",
       " 66.0: {'neg': 0.0, 'neu': 0.437, 'pos': 0.563, 'compound': 0.631},\n",
       " 67.0: {'neg': 0.0, 'neu': 1.0, 'pos': 0.0, 'compound': 0.0},\n",
       " 68.0: {'neg': 0.0, 'neu': 0.508, 'pos': 0.492, 'compound': 0.4404},\n",
       " 69.0: {'neg': 0.0, 'neu': 0.173, 'pos': 0.827, 'compound': 0.6988},\n",
       " 70.0: {'neg': 0.0, 'neu': 1.0, 'pos': 0.0, 'compound': 0.0},\n",
       " 71.0: {'neg': 0.0, 'neu': 0.328, 'pos': 0.672, 'compound': 0.6249},\n",
       " 72.0: {'neg': 0.0, 'neu': 0.496, 'pos': 0.504, 'compound': 0.2584},\n",
       " 73.0: {'neg': 0.0, 'neu': 0.147, 'pos': 0.853, 'compound': 0.7003},\n",
       " 74.0: {'neg': 0.0, 'neu': 0.312, 'pos': 0.688, 'compound': 0.765},\n",
       " 75.0: {'neg': 0.0, 'neu': 0.179, 'pos': 0.821, 'compound': 0.5574},\n",
       " 76.0: {'neg': 0.286, 'neu': 0.714, 'pos': 0.0, 'compound': -0.3412},\n",
       " 77.0: {'neg': 0.0, 'neu': 0.263, 'pos': 0.737, 'compound': 0.4215},\n",
       " 78.0: {'neg': 0.0, 'neu': 0.0, 'pos': 1.0, 'compound': 0.6249},\n",
       " 79.0: {'neg': 0.0, 'neu': 1.0, 'pos': 0.0, 'compound': 0.0},\n",
       " 80.0: {'neg': 0.0, 'neu': 1.0, 'pos': 0.0, 'compound': 0.0},\n",
       " 81.0: {'neg': 0.0, 'neu': 1.0, 'pos': 0.0, 'compound': 0.0},\n",
       " 82.0: {'neg': 0.0, 'neu': 1.0, 'pos': 0.0, 'compound': 0.0},\n",
       " 83.0: {'neg': 0.0, 'neu': 0.263, 'pos': 0.737, 'compound': 0.4215},\n",
       " 84.0: {'neg': 0.0, 'neu': 0.469, 'pos': 0.531, 'compound': 0.5267},\n",
       " 85.0: {'neg': 0.0, 'neu': 1.0, 'pos': 0.0, 'compound': 0.0},\n",
       " 86.0: {'neg': 0.0, 'neu': 1.0, 'pos': 0.0, 'compound': 0.0},\n",
       " 87.0: {'neg': 0.0, 'neu': 0.466, 'pos': 0.534, 'compound': 0.3164},\n",
       " 88.0: {'neg': 0.0, 'neu': 0.324, 'pos': 0.676, 'compound': 0.7408},\n",
       " 89.0: {'neg': 0.0, 'neu': 1.0, 'pos': 0.0, 'compound': 0.0},\n",
       " 90.0: {'neg': 0.0, 'neu': 1.0, 'pos': 0.0, 'compound': 0.0},\n",
       " 91.0: {'neg': 0.0, 'neu': 0.417, 'pos': 0.583, 'compound': 0.4215},\n",
       " 92.0: {'neg': 0.0, 'neu': 0.196, 'pos': 0.804, 'compound': 0.6249},\n",
       " 93.0: {'neg': 0.0, 'neu': 0.345, 'pos': 0.655, 'compound': 0.2263},\n",
       " 94.0: {'neg': 0.0, 'neu': 1.0, 'pos': 0.0, 'compound': 0.0},\n",
       " 95.0: {'neg': 0.0, 'neu': 0.24, 'pos': 0.76, 'compound': 0.8591},\n",
       " 96.0: {'neg': 0.0, 'neu': 1.0, 'pos': 0.0, 'compound': 0.0},\n",
       " 97.0: {'neg': 0.0, 'neu': 1.0, 'pos': 0.0, 'compound': 0.0},\n",
       " 98.0: {'neg': 0.0, 'neu': 0.192, 'pos': 0.808, 'compound': 0.6369},\n",
       " 99.0: {'neg': 0.0, 'neu': 0.196, 'pos': 0.804, 'compound': 0.6249},\n",
       " 100.0: {'neg': 0.0, 'neu': 0.704, 'pos': 0.296, 'compound': 0.2732},\n",
       " 101.0: {'neg': 0.0, 'neu': 0.256, 'pos': 0.744, 'compound': 0.4404},\n",
       " 102.0: {'neg': 0.0, 'neu': 0.0, 'pos': 1.0, 'compound': 0.5859},\n",
       " 103.0: {'neg': 0.0, 'neu': 0.218, 'pos': 0.782, 'compound': 0.5563},\n",
       " 104.0: {'neg': 0.0, 'neu': 1.0, 'pos': 0.0, 'compound': 0.0},\n",
       " 105.0: {'neg': 0.2, 'neu': 0.095, 'pos': 0.705, 'compound': 0.743},\n",
       " 106.0: {'neg': 0.0, 'neu': 0.625, 'pos': 0.375, 'compound': 0.6369},\n",
       " 107.0: {'neg': 0.0, 'neu': 0.128, 'pos': 0.872, 'compound': 0.7783},\n",
       " 108.0: {'neg': 0.0, 'neu': 0.25, 'pos': 0.75, 'compound': 0.4588},\n",
       " 109.0: {'neg': 0.0, 'neu': 0.312, 'pos': 0.688, 'compound': 0.296},\n",
       " 110.0: {'neg': 0.0, 'neu': 1.0, 'pos': 0.0, 'compound': 0.0},\n",
       " 111.0: {'neg': 0.0, 'neu': 1.0, 'pos': 0.0, 'compound': 0.0},\n",
       " 112.0: {'neg': 0.0, 'neu': 0.0, 'pos': 1.0, 'compound': 0.4404},\n",
       " 113.0: {'neg': 0.0, 'neu': 0.503, 'pos': 0.497, 'compound': 0.4497},\n",
       " 114.0: {'neg': 0.0, 'neu': 1.0, 'pos': 0.0, 'compound': 0.0},\n",
       " 115.0: {'neg': 0.397, 'neu': 0.241, 'pos': 0.362, 'compound': -0.0757},\n",
       " 116.0: {'neg': 0.0, 'neu': 1.0, 'pos': 0.0, 'compound': 0.0},\n",
       " 117.0: {'neg': 0.0, 'neu': 0.682, 'pos': 0.318, 'compound': 0.4215},\n",
       " 118.0: {'neg': 0.0, 'neu': 0.244, 'pos': 0.756, 'compound': 0.4753},\n",
       " 119.0: {'neg': 0.0, 'neu': 1.0, 'pos': 0.0, 'compound': 0.0},\n",
       " 120.0: {'neg': 0.0, 'neu': 1.0, 'pos': 0.0, 'compound': 0.0},\n",
       " 121.0: {'neg': 0.0, 'neu': 1.0, 'pos': 0.0, 'compound': 0.0},\n",
       " 122.0: {'neg': 0.0, 'neu': 0.597, 'pos': 0.403, 'compound': 0.4019},\n",
       " 123.0: {'neg': 0.0, 'neu': 1.0, 'pos': 0.0, 'compound': 0.0},\n",
       " 124.0: {'neg': 0.0, 'neu': 0.0, 'pos': 1.0, 'compound': 0.6908},\n",
       " 125.0: {'neg': 0.0, 'neu': 0.205, 'pos': 0.795, 'compound': 0.5974},\n",
       " 126.0: {'neg': 0.0, 'neu': 1.0, 'pos': 0.0, 'compound': 0.0},\n",
       " 127.0: {'neg': 0.0, 'neu': 0.329, 'pos': 0.671, 'compound': 0.2584},\n",
       " 128.0: {'neg': 0.0, 'neu': 1.0, 'pos': 0.0, 'compound': 0.0},\n",
       " 129.0: {'neg': 0.0, 'neu': 1.0, 'pos': 0.0, 'compound': 0.0},\n",
       " 130.0: {'neg': 0.0, 'neu': 0.519, 'pos': 0.481, 'compound': 0.7579},\n",
       " 131.0: {'neg': 0.0, 'neu': 0.247, 'pos': 0.753, 'compound': 0.7269},\n",
       " 132.0: {'neg': 0.0, 'neu': 1.0, 'pos': 0.0, 'compound': 0.0},\n",
       " 133.0: {'neg': 0.0, 'neu': 0.0, 'pos': 1.0, 'compound': 0.7906},\n",
       " 134.0: {'neg': 0.508, 'neu': 0.492, 'pos': 0.0, 'compound': -0.4767},\n",
       " 135.0: {'neg': 0.0, 'neu': 0.678, 'pos': 0.322, 'compound': 0.2263},\n",
       " 136.0: {'neg': 0.0, 'neu': 0.0, 'pos': 1.0, 'compound': 0.5093},\n",
       " 137.0: {'neg': 0.0, 'neu': 0.247, 'pos': 0.753, 'compound': 0.7269},\n",
       " 138.0: {'neg': 0.0, 'neu': 1.0, 'pos': 0.0, 'compound': 0.0},\n",
       " 139.0: {'neg': 0.0, 'neu': 0.286, 'pos': 0.714, 'compound': 0.3612},\n",
       " 140.0: {'neg': 0.0, 'neu': 0.6, 'pos': 0.4, 'compound': 0.25},\n",
       " 141.0: {'neg': 0.0, 'neu': 1.0, 'pos': 0.0, 'compound': 0.0},\n",
       " 142.0: {'neg': 0.0, 'neu': 0.544, 'pos': 0.456, 'compound': 0.636},\n",
       " 143.0: {'neg': 0.0, 'neu': 1.0, 'pos': 0.0, 'compound': 0.0},\n",
       " 144.0: {'neg': 0.0, 'neu': 0.213, 'pos': 0.787, 'compound': 0.5719},\n",
       " 145.0: {'neg': 0.0, 'neu': 1.0, 'pos': 0.0, 'compound': 0.0},\n",
       " 146.0: {'neg': 0.0, 'neu': 0.308, 'pos': 0.692, 'compound': 0.6696},\n",
       " 147.0: {'neg': 0.0, 'neu': 1.0, 'pos': 0.0, 'compound': 0.0},\n",
       " 148.0: {'neg': 0.0, 'neu': 1.0, 'pos': 0.0, 'compound': 0.0},\n",
       " 149.0: {'neg': 0.0, 'neu': 0.0, 'pos': 1.0, 'compound': 0.5106},\n",
       " 150.0: {'neg': 0.0, 'neu': 0.519, 'pos': 0.481, 'compound': 0.7579},\n",
       " 151.0: {'neg': 0.0, 'neu': 1.0, 'pos': 0.0, 'compound': 0.0},\n",
       " 152.0: {'neg': 0.0, 'neu': 1.0, 'pos': 0.0, 'compound': 0.0},\n",
       " 153.0: {'neg': 0.0, 'neu': 0.0, 'pos': 1.0, 'compound': 0.9347},\n",
       " 154.0: {'neg': 0.0, 'neu': 0.0, 'pos': 1.0, 'compound': 0.7906},\n",
       " 155.0: {'neg': 0.0, 'neu': 1.0, 'pos': 0.0, 'compound': 0.0},\n",
       " 156.0: {'neg': 0.0, 'neu': 0.323, 'pos': 0.677, 'compound': 0.6369},\n",
       " 157.0: {'neg': 0.0, 'neu': 0.0, 'pos': 1.0, 'compound': 0.8016},\n",
       " 158.0: {'neg': 0.0, 'neu': 0.678, 'pos': 0.322, 'compound': 0.2263},\n",
       " 159.0: {'neg': 0.0, 'neu': 0.244, 'pos': 0.756, 'compound': 0.4754},\n",
       " 160.0: {'neg': 0.0, 'neu': 1.0, 'pos': 0.0, 'compound': 0.0},\n",
       " 161.0: {'neg': 0.0, 'neu': 0.312, 'pos': 0.688, 'compound': 0.296},\n",
       " 162.0: {'neg': 0.0, 'neu': 0.0, 'pos': 1.0, 'compound': 0.6597},\n",
       " 163.0: {'neg': 0.0, 'neu': 1.0, 'pos': 0.0, 'compound': 0.0},\n",
       " 164.0: {'neg': 0.0, 'neu': 1.0, 'pos': 0.0, 'compound': 0.0},\n",
       " 165.0: {'neg': 0.508, 'neu': 0.492, 'pos': 0.0, 'compound': -0.4767},\n",
       " 166.0: {'neg': 0.311, 'neu': 0.291, 'pos': 0.398, 'compound': 0.2244},\n",
       " 167.0: {'neg': 0.0, 'neu': 0.513, 'pos': 0.487, 'compound': 0.2263},\n",
       " 168.0: {'neg': 0.0, 'neu': 0.377, 'pos': 0.623, 'compound': 0.5106},\n",
       " 169.0: {'neg': 0.508, 'neu': 0.492, 'pos': 0.0, 'compound': -0.7351},\n",
       " 170.0: {'neg': 0.0, 'neu': 0.618, 'pos': 0.382, 'compound': 0.7783},\n",
       " nan: {'neg': 0.0, 'neu': 1.0, 'pos': 0.0, 'compound': 0.0}}"
      ]
     },
     "execution_count": 38,
     "metadata": {},
     "output_type": "execute_result"
    }
   ],
   "source": [
    "res"
   ]
  },
  {
   "cell_type": "code",
   "execution_count": 40,
   "id": "1d19fc9e",
   "metadata": {},
   "outputs": [],
   "source": [
    "vaders = pd.DataFrame(res).T\n",
    "vaders = vaders.reset_index().rename(columns={'index': 'S.no'})\n",
    "vaders = vaders.merge(df, how='left')\n"
   ]
  },
  {
   "cell_type": "code",
   "execution_count": 41,
   "id": "fda1b200",
   "metadata": {},
   "outputs": [
    {
     "data": {
      "text/html": [
       "<div>\n",
       "<style scoped>\n",
       "    .dataframe tbody tr th:only-of-type {\n",
       "        vertical-align: middle;\n",
       "    }\n",
       "\n",
       "    .dataframe tbody tr th {\n",
       "        vertical-align: top;\n",
       "    }\n",
       "\n",
       "    .dataframe thead th {\n",
       "        text-align: right;\n",
       "    }\n",
       "</style>\n",
       "<table border=\"1\" class=\"dataframe\">\n",
       "  <thead>\n",
       "    <tr style=\"text-align: right;\">\n",
       "      <th></th>\n",
       "      <th>S.no</th>\n",
       "      <th>neg</th>\n",
       "      <th>neu</th>\n",
       "      <th>pos</th>\n",
       "      <th>compound</th>\n",
       "      <th>ASIN</th>\n",
       "      <th>Rating</th>\n",
       "      <th>Review Title</th>\n",
       "      <th>Review</th>\n",
       "      <th>Product Name</th>\n",
       "      <th>Brand</th>\n",
       "      <th>Unnamed: 7</th>\n",
       "      <th>Unnamed: 8</th>\n",
       "      <th>Category</th>\n",
       "    </tr>\n",
       "  </thead>\n",
       "  <tbody>\n",
       "    <tr>\n",
       "      <th>0</th>\n",
       "      <td>NaN</td>\n",
       "      <td>0.0</td>\n",
       "      <td>1.000</td>\n",
       "      <td>0.000</td>\n",
       "      <td>0.0000</td>\n",
       "      <td>NaN</td>\n",
       "      <td>NaN</td>\n",
       "      <td>NaN</td>\n",
       "      <td>NaN</td>\n",
       "      <td>NaN</td>\n",
       "      <td>NaN</td>\n",
       "      <td>NaN</td>\n",
       "      <td>NaN</td>\n",
       "      <td>NaN</td>\n",
       "    </tr>\n",
       "    <tr>\n",
       "      <th>1</th>\n",
       "      <td>NaN</td>\n",
       "      <td>0.0</td>\n",
       "      <td>1.000</td>\n",
       "      <td>0.000</td>\n",
       "      <td>0.0000</td>\n",
       "      <td>NaN</td>\n",
       "      <td>NaN</td>\n",
       "      <td>NaN</td>\n",
       "      <td>NaN</td>\n",
       "      <td>NaN</td>\n",
       "      <td>NaN</td>\n",
       "      <td>NaN</td>\n",
       "      <td>NaN</td>\n",
       "      <td></td>\n",
       "    </tr>\n",
       "    <tr>\n",
       "      <th>2</th>\n",
       "      <td>2.0</td>\n",
       "      <td>0.0</td>\n",
       "      <td>0.261</td>\n",
       "      <td>0.739</td>\n",
       "      <td>0.8173</td>\n",
       "      <td>B08THVX64T</td>\n",
       "      <td>5.0</td>\n",
       "      <td>Really nice material and good fit</td>\n",
       "      <td>Product is true to fit and as it showed in the...</td>\n",
       "      <td>VERO MODA Women's Vmava Plain SS Top Ga Noos T...</td>\n",
       "      <td>VERO MODA</td>\n",
       "      <td>NaN</td>\n",
       "      <td>NaN</td>\n",
       "      <td>Tshirt</td>\n",
       "    </tr>\n",
       "    <tr>\n",
       "      <th>3</th>\n",
       "      <td>3.0</td>\n",
       "      <td>0.0</td>\n",
       "      <td>0.256</td>\n",
       "      <td>0.744</td>\n",
       "      <td>0.4404</td>\n",
       "      <td>B07V35NX7T</td>\n",
       "      <td>5.0</td>\n",
       "      <td>Good quality</td>\n",
       "      <td>Good quality and comfortable</td>\n",
       "      <td>Mariposa Women's Long Sleeve T-Shirt</td>\n",
       "      <td>Mariposa Women's</td>\n",
       "      <td>NaN</td>\n",
       "      <td>NaN</td>\n",
       "      <td>Tshirt</td>\n",
       "    </tr>\n",
       "    <tr>\n",
       "      <th>4</th>\n",
       "      <td>4.0</td>\n",
       "      <td>0.0</td>\n",
       "      <td>0.272</td>\n",
       "      <td>0.728</td>\n",
       "      <td>0.6549</td>\n",
       "      <td>‎ B095YQTFS9</td>\n",
       "      <td>5.0</td>\n",
       "      <td>Really cute summer top</td>\n",
       "      <td>Really like the color ( hot pink) oversized bu...</td>\n",
       "      <td>MIRACMODA Women Open Back Athlete Loose Fittin...</td>\n",
       "      <td>MIRACMODA Women</td>\n",
       "      <td>NaN</td>\n",
       "      <td>NaN</td>\n",
       "      <td>Tshirt</td>\n",
       "    </tr>\n",
       "  </tbody>\n",
       "</table>\n",
       "</div>"
      ],
      "text/plain": [
       "   S.no  neg    neu    pos  compound           ASIN  Rating  \\\n",
       "0   NaN  0.0  1.000  0.000    0.0000            NaN     NaN   \n",
       "1   NaN  0.0  1.000  0.000    0.0000            NaN     NaN   \n",
       "2   2.0  0.0  0.261  0.739    0.8173     B08THVX64T     5.0   \n",
       "3   3.0  0.0  0.256  0.744    0.4404     B07V35NX7T     5.0   \n",
       "4   4.0  0.0  0.272  0.728    0.6549   ‎ B095YQTFS9     5.0   \n",
       "\n",
       "                         Review Title  \\\n",
       "0                                 NaN   \n",
       "1                                 NaN   \n",
       "2   Really nice material and good fit   \n",
       "3                        Good quality   \n",
       "4              Really cute summer top   \n",
       "\n",
       "                                              Review  \\\n",
       "0                                                NaN   \n",
       "1                                                NaN   \n",
       "2  Product is true to fit and as it showed in the...   \n",
       "3                       Good quality and comfortable   \n",
       "4  Really like the color ( hot pink) oversized bu...   \n",
       "\n",
       "                                        Product Name             Brand  \\\n",
       "0                                                NaN               NaN   \n",
       "1                                                NaN               NaN   \n",
       "2  VERO MODA Women's Vmava Plain SS Top Ga Noos T...         VERO MODA   \n",
       "3               Mariposa Women's Long Sleeve T-Shirt  Mariposa Women's   \n",
       "4  MIRACMODA Women Open Back Athlete Loose Fittin...   MIRACMODA Women   \n",
       "\n",
       "  Unnamed: 7  Unnamed: 8 Category  \n",
       "0        NaN         NaN      NaN  \n",
       "1        NaN         NaN           \n",
       "2        NaN         NaN   Tshirt  \n",
       "3        NaN         NaN   Tshirt  \n",
       "4        NaN         NaN   Tshirt  "
      ]
     },
     "execution_count": 41,
     "metadata": {},
     "output_type": "execute_result"
    }
   ],
   "source": [
    "vaders.head()"
   ]
  },
  {
   "cell_type": "code",
   "execution_count": 43,
   "id": "1ab24f01",
   "metadata": {},
   "outputs": [
    {
     "ename": "AttributeError",
     "evalue": "Rectangle.set() got an unexpected keyword argument 'score'",
     "output_type": "error",
     "traceback": [
      "\u001b[1;31m---------------------------------------------------------------------------\u001b[0m",
      "\u001b[1;31mAttributeError\u001b[0m                            Traceback (most recent call last)",
      "Cell \u001b[1;32mIn[43], line 1\u001b[0m\n\u001b[1;32m----> 1\u001b[0m \u001b[43msns\u001b[49m\u001b[38;5;241;43m.\u001b[39;49m\u001b[43mbarplot\u001b[49m\u001b[43m(\u001b[49m\u001b[43mdata\u001b[49m\u001b[38;5;241;43m=\u001b[39;49m\u001b[43mvaders\u001b[49m\u001b[43m,\u001b[49m\u001b[43m \u001b[49m\u001b[43mscore\u001b[49m\u001b[38;5;241;43m=\u001b[39;49m\u001b[38;5;124;43m'\u001b[39;49m\u001b[38;5;124;43mRating\u001b[39;49m\u001b[38;5;124;43m'\u001b[39;49m\u001b[43m,\u001b[49m\u001b[43m \u001b[49m\u001b[43my\u001b[49m\u001b[38;5;241;43m=\u001b[39;49m\u001b[38;5;124;43m'\u001b[39;49m\u001b[38;5;124;43mcompound\u001b[39;49m\u001b[38;5;124;43m'\u001b[39;49m\u001b[43m)\u001b[49m\n\u001b[0;32m      2\u001b[0m plt\u001b[38;5;241m.\u001b[39mshow()\n",
      "File \u001b[1;32m~\\anaconda3\\lib\\site-packages\\seaborn\\categorical.py:2763\u001b[0m, in \u001b[0;36mbarplot\u001b[1;34m(data, x, y, hue, order, hue_order, estimator, errorbar, n_boot, units, seed, orient, color, palette, saturation, width, errcolor, errwidth, capsize, dodge, ci, ax, **kwargs)\u001b[0m\n\u001b[0;32m   2760\u001b[0m \u001b[38;5;28;01mif\u001b[39;00m ax \u001b[38;5;129;01mis\u001b[39;00m \u001b[38;5;28;01mNone\u001b[39;00m:\n\u001b[0;32m   2761\u001b[0m     ax \u001b[38;5;241m=\u001b[39m plt\u001b[38;5;241m.\u001b[39mgca()\n\u001b[1;32m-> 2763\u001b[0m \u001b[43mplotter\u001b[49m\u001b[38;5;241;43m.\u001b[39;49m\u001b[43mplot\u001b[49m\u001b[43m(\u001b[49m\u001b[43max\u001b[49m\u001b[43m,\u001b[49m\u001b[43m \u001b[49m\u001b[43mkwargs\u001b[49m\u001b[43m)\u001b[49m\n\u001b[0;32m   2764\u001b[0m \u001b[38;5;28;01mreturn\u001b[39;00m ax\n",
      "File \u001b[1;32m~\\anaconda3\\lib\\site-packages\\seaborn\\categorical.py:1586\u001b[0m, in \u001b[0;36m_BarPlotter.plot\u001b[1;34m(self, ax, bar_kws)\u001b[0m\n\u001b[0;32m   1584\u001b[0m \u001b[38;5;28;01mdef\u001b[39;00m \u001b[38;5;21mplot\u001b[39m(\u001b[38;5;28mself\u001b[39m, ax, bar_kws):\n\u001b[0;32m   1585\u001b[0m     \u001b[38;5;124;03m\"\"\"Make the plot.\"\"\"\u001b[39;00m\n\u001b[1;32m-> 1586\u001b[0m     \u001b[38;5;28;43mself\u001b[39;49m\u001b[38;5;241;43m.\u001b[39;49m\u001b[43mdraw_bars\u001b[49m\u001b[43m(\u001b[49m\u001b[43max\u001b[49m\u001b[43m,\u001b[49m\u001b[43m \u001b[49m\u001b[43mbar_kws\u001b[49m\u001b[43m)\u001b[49m\n\u001b[0;32m   1587\u001b[0m     \u001b[38;5;28mself\u001b[39m\u001b[38;5;241m.\u001b[39mannotate_axes(ax)\n\u001b[0;32m   1588\u001b[0m     \u001b[38;5;28;01mif\u001b[39;00m \u001b[38;5;28mself\u001b[39m\u001b[38;5;241m.\u001b[39morient \u001b[38;5;241m==\u001b[39m \u001b[38;5;124m\"\u001b[39m\u001b[38;5;124mh\u001b[39m\u001b[38;5;124m\"\u001b[39m:\n",
      "File \u001b[1;32m~\\anaconda3\\lib\\site-packages\\seaborn\\categorical.py:1551\u001b[0m, in \u001b[0;36m_BarPlotter.draw_bars\u001b[1;34m(self, ax, kws)\u001b[0m\n\u001b[0;32m   1546\u001b[0m barpos \u001b[38;5;241m=\u001b[39m np\u001b[38;5;241m.\u001b[39marange(\u001b[38;5;28mlen\u001b[39m(\u001b[38;5;28mself\u001b[39m\u001b[38;5;241m.\u001b[39mstatistic))\n\u001b[0;32m   1548\u001b[0m \u001b[38;5;28;01mif\u001b[39;00m \u001b[38;5;28mself\u001b[39m\u001b[38;5;241m.\u001b[39mplot_hues \u001b[38;5;129;01mis\u001b[39;00m \u001b[38;5;28;01mNone\u001b[39;00m:\n\u001b[0;32m   1549\u001b[0m \n\u001b[0;32m   1550\u001b[0m     \u001b[38;5;66;03m# Draw the bars\u001b[39;00m\n\u001b[1;32m-> 1551\u001b[0m     barfunc(barpos, \u001b[38;5;28mself\u001b[39m\u001b[38;5;241m.\u001b[39mstatistic, \u001b[38;5;28mself\u001b[39m\u001b[38;5;241m.\u001b[39mwidth,\n\u001b[0;32m   1552\u001b[0m             color\u001b[38;5;241m=\u001b[39m\u001b[38;5;28mself\u001b[39m\u001b[38;5;241m.\u001b[39mcolors, align\u001b[38;5;241m=\u001b[39m\u001b[38;5;124m\"\u001b[39m\u001b[38;5;124mcenter\u001b[39m\u001b[38;5;124m\"\u001b[39m, \u001b[38;5;241m*\u001b[39m\u001b[38;5;241m*\u001b[39mkws)\n\u001b[0;32m   1554\u001b[0m     \u001b[38;5;66;03m# Draw the confidence intervals\u001b[39;00m\n\u001b[0;32m   1555\u001b[0m     errcolors \u001b[38;5;241m=\u001b[39m [\u001b[38;5;28mself\u001b[39m\u001b[38;5;241m.\u001b[39merrcolor] \u001b[38;5;241m*\u001b[39m \u001b[38;5;28mlen\u001b[39m(barpos)\n",
      "File \u001b[1;32m~\\anaconda3\\lib\\site-packages\\matplotlib\\__init__.py:1442\u001b[0m, in \u001b[0;36m_preprocess_data.<locals>.inner\u001b[1;34m(ax, data, *args, **kwargs)\u001b[0m\n\u001b[0;32m   1439\u001b[0m \u001b[38;5;129m@functools\u001b[39m\u001b[38;5;241m.\u001b[39mwraps(func)\n\u001b[0;32m   1440\u001b[0m \u001b[38;5;28;01mdef\u001b[39;00m \u001b[38;5;21minner\u001b[39m(ax, \u001b[38;5;241m*\u001b[39margs, data\u001b[38;5;241m=\u001b[39m\u001b[38;5;28;01mNone\u001b[39;00m, \u001b[38;5;241m*\u001b[39m\u001b[38;5;241m*\u001b[39mkwargs):\n\u001b[0;32m   1441\u001b[0m     \u001b[38;5;28;01mif\u001b[39;00m data \u001b[38;5;129;01mis\u001b[39;00m \u001b[38;5;28;01mNone\u001b[39;00m:\n\u001b[1;32m-> 1442\u001b[0m         \u001b[38;5;28;01mreturn\u001b[39;00m func(ax, \u001b[38;5;241m*\u001b[39m\u001b[38;5;28mmap\u001b[39m(sanitize_sequence, args), \u001b[38;5;241m*\u001b[39m\u001b[38;5;241m*\u001b[39mkwargs)\n\u001b[0;32m   1444\u001b[0m     bound \u001b[38;5;241m=\u001b[39m new_sig\u001b[38;5;241m.\u001b[39mbind(ax, \u001b[38;5;241m*\u001b[39margs, \u001b[38;5;241m*\u001b[39m\u001b[38;5;241m*\u001b[39mkwargs)\n\u001b[0;32m   1445\u001b[0m     auto_label \u001b[38;5;241m=\u001b[39m (bound\u001b[38;5;241m.\u001b[39marguments\u001b[38;5;241m.\u001b[39mget(label_namer)\n\u001b[0;32m   1446\u001b[0m                   \u001b[38;5;129;01mor\u001b[39;00m bound\u001b[38;5;241m.\u001b[39mkwargs\u001b[38;5;241m.\u001b[39mget(label_namer))\n",
      "File \u001b[1;32m~\\anaconda3\\lib\\site-packages\\matplotlib\\axes\\_axes.py:2488\u001b[0m, in \u001b[0;36mAxes.bar\u001b[1;34m(self, x, height, width, bottom, align, **kwargs)\u001b[0m\n\u001b[0;32m   2479\u001b[0m \u001b[38;5;28;01mfor\u001b[39;00m l, b, w, h, c, e, lw, htch, lbl \u001b[38;5;129;01min\u001b[39;00m args:\n\u001b[0;32m   2480\u001b[0m     r \u001b[38;5;241m=\u001b[39m mpatches\u001b[38;5;241m.\u001b[39mRectangle(\n\u001b[0;32m   2481\u001b[0m         xy\u001b[38;5;241m=\u001b[39m(l, b), width\u001b[38;5;241m=\u001b[39mw, height\u001b[38;5;241m=\u001b[39mh,\n\u001b[0;32m   2482\u001b[0m         facecolor\u001b[38;5;241m=\u001b[39mc,\n\u001b[1;32m   (...)\u001b[0m\n\u001b[0;32m   2486\u001b[0m         hatch\u001b[38;5;241m=\u001b[39mhtch,\n\u001b[0;32m   2487\u001b[0m         )\n\u001b[1;32m-> 2488\u001b[0m     \u001b[43mr\u001b[49m\u001b[38;5;241;43m.\u001b[39;49m\u001b[43m_internal_update\u001b[49m\u001b[43m(\u001b[49m\u001b[43mkwargs\u001b[49m\u001b[43m)\u001b[49m\n\u001b[0;32m   2489\u001b[0m     r\u001b[38;5;241m.\u001b[39mget_path()\u001b[38;5;241m.\u001b[39m_interpolation_steps \u001b[38;5;241m=\u001b[39m \u001b[38;5;241m100\u001b[39m\n\u001b[0;32m   2490\u001b[0m     \u001b[38;5;28;01mif\u001b[39;00m orientation \u001b[38;5;241m==\u001b[39m \u001b[38;5;124m'\u001b[39m\u001b[38;5;124mvertical\u001b[39m\u001b[38;5;124m'\u001b[39m:\n",
      "File \u001b[1;32m~\\anaconda3\\lib\\site-packages\\matplotlib\\artist.py:1223\u001b[0m, in \u001b[0;36mArtist._internal_update\u001b[1;34m(self, kwargs)\u001b[0m\n\u001b[0;32m   1216\u001b[0m \u001b[38;5;28;01mdef\u001b[39;00m \u001b[38;5;21m_internal_update\u001b[39m(\u001b[38;5;28mself\u001b[39m, kwargs):\n\u001b[0;32m   1217\u001b[0m     \u001b[38;5;124;03m\"\"\"\u001b[39;00m\n\u001b[0;32m   1218\u001b[0m \u001b[38;5;124;03m    Update artist properties without prenormalizing them, but generating\u001b[39;00m\n\u001b[0;32m   1219\u001b[0m \u001b[38;5;124;03m    errors as if calling `set`.\u001b[39;00m\n\u001b[0;32m   1220\u001b[0m \n\u001b[0;32m   1221\u001b[0m \u001b[38;5;124;03m    The lack of prenormalization is to maintain backcompatibility.\u001b[39;00m\n\u001b[0;32m   1222\u001b[0m \u001b[38;5;124;03m    \"\"\"\u001b[39;00m\n\u001b[1;32m-> 1223\u001b[0m     \u001b[38;5;28;01mreturn\u001b[39;00m \u001b[38;5;28;43mself\u001b[39;49m\u001b[38;5;241;43m.\u001b[39;49m\u001b[43m_update_props\u001b[49m\u001b[43m(\u001b[49m\n\u001b[0;32m   1224\u001b[0m \u001b[43m        \u001b[49m\u001b[43mkwargs\u001b[49m\u001b[43m,\u001b[49m\u001b[43m \u001b[49m\u001b[38;5;124;43m\"\u001b[39;49m\u001b[38;5;132;43;01m{cls.__name__}\u001b[39;49;00m\u001b[38;5;124;43m.set() got an unexpected keyword argument \u001b[39;49m\u001b[38;5;124;43m\"\u001b[39;49m\n\u001b[0;32m   1225\u001b[0m \u001b[43m        \u001b[49m\u001b[38;5;124;43m\"\u001b[39;49m\u001b[38;5;132;43;01m{prop_name!r}\u001b[39;49;00m\u001b[38;5;124;43m\"\u001b[39;49m\u001b[43m)\u001b[49m\n",
      "File \u001b[1;32m~\\anaconda3\\lib\\site-packages\\matplotlib\\artist.py:1197\u001b[0m, in \u001b[0;36mArtist._update_props\u001b[1;34m(self, props, errfmt)\u001b[0m\n\u001b[0;32m   1195\u001b[0m             func \u001b[38;5;241m=\u001b[39m \u001b[38;5;28mgetattr\u001b[39m(\u001b[38;5;28mself\u001b[39m, \u001b[38;5;124mf\u001b[39m\u001b[38;5;124m\"\u001b[39m\u001b[38;5;124mset_\u001b[39m\u001b[38;5;132;01m{\u001b[39;00mk\u001b[38;5;132;01m}\u001b[39;00m\u001b[38;5;124m\"\u001b[39m, \u001b[38;5;28;01mNone\u001b[39;00m)\n\u001b[0;32m   1196\u001b[0m             \u001b[38;5;28;01mif\u001b[39;00m \u001b[38;5;129;01mnot\u001b[39;00m callable(func):\n\u001b[1;32m-> 1197\u001b[0m                 \u001b[38;5;28;01mraise\u001b[39;00m \u001b[38;5;167;01mAttributeError\u001b[39;00m(\n\u001b[0;32m   1198\u001b[0m                     errfmt\u001b[38;5;241m.\u001b[39mformat(\u001b[38;5;28mcls\u001b[39m\u001b[38;5;241m=\u001b[39m\u001b[38;5;28mtype\u001b[39m(\u001b[38;5;28mself\u001b[39m), prop_name\u001b[38;5;241m=\u001b[39mk))\n\u001b[0;32m   1199\u001b[0m             ret\u001b[38;5;241m.\u001b[39mappend(func(v))\n\u001b[0;32m   1200\u001b[0m \u001b[38;5;28;01mif\u001b[39;00m ret:\n",
      "\u001b[1;31mAttributeError\u001b[0m: Rectangle.set() got an unexpected keyword argument 'score'"
     ]
    },
    {
     "data": {
      "image/png": "[encoded data removed]",
      "text/plain": [
       "<Figure size 640x480 with 1 Axes>"
      ]
     },
     "metadata": {},
     "output_type": "display_data"
    }
   ],
   "source": [
    "sns.barplot(data=vaders, score='Rating', y='compound')\n",
    "plt.show()"
   ]
  },
  {
   "cell_type": "code",
   "execution_count": 44,
   "id": "ef9a9974",
   "metadata": {},
   "outputs": [
    {
     "data": {
      "image/png": "[encoded data removed]",
      "text/plain": [
       "<Figure size 640x480 with 1 Axes>"
      ]
     },
     "metadata": {},
     "output_type": "display_data"
    }
   ],
   "source": [
    "import seaborn as sns\n",
    "import matplotlib.pyplot as plt\n",
    "\n",
    "sns.barplot(data=vaders, x='Rating', y='compound')\n",
    "plt.show()\n",
    "\n"
   ]
  },
  {
   "cell_type": "code",
   "execution_count": 45,
   "id": "1caa7568",
   "metadata": {},
   "outputs": [
    {
     "data": {
      "image/png": "[encoded data removed]",
      "text/plain": [
       "<Figure size 1200x300 with 3 Axes>"
      ]
     },
     "metadata": {},
     "output_type": "display_data"
    }
   ],
   "source": [
    "fig, axs = plt.subplots(1, 3, figsize=(12, 3))\n",
    "sns.barplot(data=vaders, x='Rating', y='pos', ax=axs[0])\n",
    "sns.barplot(data=vaders, x='Rating', y='neu', ax=axs[1])\n",
    "sns.barplot(data=vaders, x='Rating', y='neg', ax=axs[2])\n",
    "axs[0].set_title('Positive')\n",
    "axs[1].set_title('Neutral')\n",
    "axs[2].set_title('Negative')\n",
    "plt.tight_layout()\n",
    "plt.show()\n"
   ]
  },
  {
   "cell_type": "code",
   "execution_count": 46,
   "id": "1da2235a",
   "metadata": {},
   "outputs": [],
   "source": [
    "#The plt.tight_layout() function is used to automatically adjust the spacing between subplots to avoid overlapping elements. It ensures that all subplots are clearly visible within the figure."
   ]
  },
  {
   "cell_type": "code",
   "execution_count": 48,
   "id": "62aae290",
   "metadata": {},
   "outputs": [],
   "source": [
    "#By specifying the figsize as (12, 3), you are creating a relatively wide and short figure. This aspect ratio can be suitable for displaying multiple subplots side by side, such as in your case where you have three subplots arranged horizontally."
   ]
  },
  {
   "cell_type": "code",
   "execution_count": null,
   "id": "9a663ba0",
   "metadata": {},
   "outputs": [],
   "source": []
  }
 ],
 "metadata": {
  "kernelspec": {
   "display_name": "Python 3 (ipykernel)",
   "language": "python",
   "name": "python3"
  },
  "language_info": {
   "codemirror_mode": {
    "name": "ipython",
    "version": 3
   },
   "file_extension": ".py",
   "mimetype": "text/x-python",
   "name": "python",
   "nbconvert_exporter": "python",
   "pygments_lexer": "ipython3",
   "version": "3.10.9"
  }
 },
 "nbformat": 4,
 "nbformat_minor": 5
}
